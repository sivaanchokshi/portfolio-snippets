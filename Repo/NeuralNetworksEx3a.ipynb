{
 "cells": [
  {
   "cell_type": "code",
   "execution_count": 1,
   "metadata": {},
   "outputs": [
    {
     "name": "stdout",
     "output_type": "stream",
     "text": [
      "\n",
      "\u001b[1m[\u001b[0m\u001b[34;49mnotice\u001b[0m\u001b[1;39;49m]\u001b[0m\u001b[39;49m A new release of pip available: \u001b[0m\u001b[31;49m22.3.1\u001b[0m\u001b[39;49m -> \u001b[0m\u001b[32;49m23.3.2\u001b[0m\n",
      "\u001b[1m[\u001b[0m\u001b[34;49mnotice\u001b[0m\u001b[1;39;49m]\u001b[0m\u001b[39;49m To update, run: \u001b[0m\u001b[32;49mpython3.11 -m pip install --upgrade pip\u001b[0m\n"
     ]
    }
   ],
   "source": []
  },
  {
   "cell_type": "code",
   "execution_count": 4,
   "metadata": {},
   "outputs": [],
   "source": [
    "import torch\n",
    "import matplotlib.pyplot as plt\n",
    " \n",
    "# generate synthetic data\n",
    "X = torch.arange(-30, 30, 1).view(-1, 1).type(torch.FloatTensor)\n",
    "Y = torch.zeros(X.shape[0])\n",
    "Y[(X[:, 0] <= -10)] = 1.0\n",
    "Y[(X[:, 0] > -10) & (X[:, 0] < 10)] = 0.5\n",
    "Y[(X[:, 0] > 10)] = 0"
   ]
  },
  {
   "cell_type": "code",
   "execution_count": 3,
   "metadata": {},
   "outputs": [
    {
     "data": {
      "image/png": "[encoded data removed]",
      "text/plain": [
       "<Figure size 640x480 with 1 Axes>"
      ]
     },
     "metadata": {},
     "output_type": "display_data"
    }
   ],
   "source": [
    "plt.plot(X, Y)\n",
    "plt.show()"
   ]
  },
  {
   "cell_type": "code",
   "execution_count": 14,
   "metadata": {},
   "outputs": [],
   "source": [
    "\n",
    "# Define the class for single layer NN\n",
    "class one_layer_net(torch.nn.Module):    \n",
    "    # Constructor\n",
    "    def __init__(self, input_size, hidden_neurons, output_size):\n",
    "        super(one_layer_net, self).__init__()\n",
    "        # TODO generate a neural network that has one hidden layer using torch.nn.Linear(input_size, output_size)\n",
    "        # Note: the number of nodes in the hidden layer, input and output will be 'hidden_neurons', 'input size' and 'output_size' respectively\n",
    "        # Hint: save each of these layers as instance variables (i.e using self._____ )\n",
    "        self.Linear_one= torch.nn.Linear(input_size,hidden_neurons)\n",
    "        self.Linear_two=torch.nn.Linear(hidden_neurons,output_size)\n",
    "        self.layer_in = None\n",
    "        self.act = None\n",
    "        self.layer_out = None\n",
    "    # prediction function\n",
    "    def forward(self, x):\n",
    "        # TODO write code to propogate data through this neural network\n",
    "        y_pred = 0\n",
    "        return y_pred"
   ]
  },
  {
   "cell_type": "code",
   "execution_count": 15,
   "metadata": {},
   "outputs": [],
   "source": [
    "# TODO create the model by creating an instance of the above one_layer_net class\n",
    "# Hint: call out_layer_net() and pass into the parathesis the input that the __init__ method of the class requires\n",
    "model =  None  # replace None with your code"
   ]
  },
  {
   "cell_type": "code",
   "execution_count": null,
   "metadata": {},
   "outputs": [],
   "source": [
    "def criterion(y_pred, y):\n",
    "    # TODO write the form for the loss function, you can try different loss functions.\n",
    "    # Hint: use a ** 2 to find the square of a number in python\n",
    "    out = 0\n",
    "    return out\n",
    "optimizer = torch.optim.SGD(model.parameters(), lr=0.01) # TODO change the learning rate and see what happens"
   ]
  },
  {
   "cell_type": "code",
   "execution_count": null,
   "metadata": {},
   "outputs": [],
   "source": [
    "\n",
    "# Define the training loop\n",
    "epochs=5000\n",
    "cost = []\n",
    "total=0\n",
    "for epoch in range(epochs):\n",
    "    total=0\n",
    "    epoch = epoch + 1\n",
    "    for x, y in zip(X, Y):\n",
    "        yhat = model(x)\n",
    "        loss = criterion(yhat, y)\n",
    "        loss.backward()\n",
    "        optimizer.step()\n",
    "        optimizer.zero_grad()\n",
    "        # get total loss \n",
    "        total+=loss.item() \n",
    "    cost.append(total)\n",
    "    if epoch % 1000 == 0:\n",
    "        print(str(epoch)+ \" \" + \"epochs done!\") # visualze results after every 1000 epochs   \n",
    "        # plot the result of function approximator\n",
    "        plt.plot(X.numpy(), model(X).detach().numpy())\n",
    "        plt.plot(X.numpy(), Y.numpy(), 'm')\n",
    "        plt.xlabel('x')\n",
    "        plt.show()\n",
    "        "
   ]
  },
  {
   "cell_type": "code",
   "execution_count": null,
   "metadata": {},
   "outputs": [],
   "source": [
    "# plot the cost\n",
    "plt.plot(cost)\n",
    "plt.xlabel('epochs')\n",
    "plt.title('loss')\n",
    "plt.show()"
   ]
  }
 ],
 "metadata": {
  "kernelspec": {
   "display_name": "Python 3.11.1 64-bit",
   "language": "python",
   "name": "python3"
  },
  "language_info": {
   "codemirror_mode": {
    "name": "ipython",
    "version": 3
   },
   "file_extension": ".py",
   "mimetype": "text/x-python",
   "name": "python",
   "nbconvert_exporter": "python",
   "pygments_lexer": "ipython3",
   "version": "3.9.6"
  },
  "orig_nbformat": 4,
  "vscode": {
   "interpreter": {
    "hash": "1a1af0ee75eeea9e2e1ee996c87e7a2b11a0bebd85af04bb136d915cefc0abce"
   }
  }
 },
 "nbformat": 4,
 "nbformat_minor": 2
}
