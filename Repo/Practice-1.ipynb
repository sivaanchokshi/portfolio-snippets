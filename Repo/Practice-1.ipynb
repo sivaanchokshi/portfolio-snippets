{
 "cells": [
  {
   "cell_type": "code",
   "execution_count": 5,
   "metadata": {},
   "outputs": [
    {
     "name": "stdout",
     "output_type": "stream",
     "text": [
      "[1, 2, 3, 11]\n",
      "[1, 2]\n",
      "4\n",
      "11\n",
      "[1, 2]\n",
      "[3, 11]\n"
     ]
    }
   ],
   "source": [
    "a=[1,2,3,4]\n",
    "b=[1,2,3]\n",
    "a.append(11)\n",
    "a.remove(4)\n",
    "print(a)\n",
    "print(a[0:2])\n",
    "print(len(a))\n",
    "print(a[-1])\n",
    "print(a[:2])\n",
    "print(a[2:])"
   ]
  },
  {
   "cell_type": "code",
   "execution_count": 8,
   "metadata": {},
   "outputs": [
    {
     "name": "stdout",
     "output_type": "stream",
     "text": [
      "[1, 2, 3, 4, 'arnav', [1, 2, 4]]\n"
     ]
    }
   ],
   "source": [
    "weird=[1,2,3,4]\n",
    "weird.append('arnav')\n",
    "weird.append([1,2,4])\n",
    "print(weird)"
   ]
  }
 ],
 "metadata": {
  "kernelspec": {
   "display_name": "base",
   "language": "python",
   "name": "python3"
  },
  "language_info": {
   "codemirror_mode": {
    "name": "ipython",
    "version": 3
   },
   "file_extension": ".py",
   "mimetype": "text/x-python",
   "name": "python",
   "nbconvert_exporter": "python",
   "pygments_lexer": "ipython3",
   "version": "3.9.13"
  }
 },
 "nbformat": 4,
 "nbformat_minor": 2
}
