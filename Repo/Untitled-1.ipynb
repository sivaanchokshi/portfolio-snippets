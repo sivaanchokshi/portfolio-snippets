{
 "cells": [
  {
   "cell_type": "code",
   "execution_count": 8,
   "metadata": {},
   "outputs": [
    {
     "name": "stdout",
     "output_type": "stream",
     "text": [
      "['Orange', 'Blue', 'White', 'Purple']\n"
     ]
    }
   ],
   "source": [
    "import numpy as np\n",
    "from random import choices, randint, randrange, random, sample\n",
    "num_to_colour={0:\"Red\",1:\"Orange\",2:\"Yellow\",3:\"Green\",4:\"Black\",5:\"Purple\",6:\"Blue\",7:\"White\"}\n",
    "colour_to_num={\"Red\":0,\"Orange\":1,\"Yellow\":2,\"Green\":3,\"Black\":4,\"Purple\":5,\"Blue\":6,\"White\":7}\n",
    "solution=[]\n",
    "for i in range(4):\n",
    "    solution.append(num_to_colour[randint(0,7)])\n",
    "print(solution)\n",
    "\n",
    "us=[]\n",
    "for o in range(4):\n",
    "    us.append(num_to_colour[o])\n",
    "print(us)\n",
    "correct=[]\n",
    "temp=[]\n",
    "for o in range(4):\n",
    "    for x in range(4)\n",
    "        if us[o]==solution[x]:\n",
    "            correct.append(1)\n",
    "            if o==x:\n",
    "                correct.append(2)\n",
    "for o in range(4):\n",
    "    if correct[o]==1:\n",
    "        temp.append(us[o])\n",
    "\n",
    "for o in range(4):\n",
    "    us.append(num_to_colour[4+o])\n",
    "\n",
    "    for o in range(4):\n",
    "        for x in range(4)\n",
    "            if us[o]==solution[x]:\n",
    "                correct.append(1)\n",
    "                if o==x:\n",
    "                    correct.append(2)\n",
    "\n",
    "swapper=[]\n",
    "for o in range(4):\n",
    "    if correct[o]==1:\n",
    "        temp.append(us[o])\n",
    "\n",
    "\n",
    "for i in range\n",
    "    if correct[i]==1:\n",
    "\n",
    "\n",
    "\n",
    "\n",
    "\n",
    "\n"
   ]
  }
 ],
 "metadata": {
  "kernelspec": {
   "display_name": "Python 3",
   "language": "python",
   "name": "python3"
  },
  "language_info": {
   "codemirror_mode": {
    "name": "ipython",
    "version": 3
   },
   "file_extension": ".py",
   "mimetype": "text/x-python",
   "name": "python",
   "nbconvert_exporter": "python",
   "pygments_lexer": "ipython3",
   "version": "3.9.6"
  }
 },
 "nbformat": 4,
 "nbformat_minor": 2
}
